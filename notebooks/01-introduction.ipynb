{
 "cells": [
  {
   "cell_type": "markdown",
   "metadata": {},
   "source": [
    "## Course https://ualberta-rcg.github.io/python-plotting/"
   ]
  },
  {
   "cell_type": "markdown",
   "metadata": {},
   "source": [
    "## Notebooks: https://github.com/ualberta-rcg/python-plotting/archive/master.zip"
   ]
  },
  {
   "cell_type": "markdown",
   "metadata": {},
   "source": [
    "## Or just run in Colab ... https://colab.research.google.com"
   ]
  },
  {
   "cell_type": "markdown",
   "metadata": {},
   "source": [
    "# About this course\n",
    "\n",
    "This course is meant to be a continuation of our introduction to Python, Pandas, and Plotting course. This prerequisite course is based of of the Software Carpentries novice Python course, found here:\n",
    "\n",
    "https://swcarpentry.github.io/python-novice-gapminder/\n",
    "\n",
    "If you haven't taken the prerequisite course, you might want to look it over to ensure that you understand the content covered there.\n",
    "\n",
    "In particular, you should already have Python and Jupyter installed, and know how to start a notebook server (or now how to run notebooks in Colab)."
   ]
  },
  {
   "cell_type": "markdown",
   "metadata": {},
   "source": [
    "# Contents\n",
    "\n",
    "1. Introduction (this notebook)\n",
    "1. [Plotly Scatter plots](03a-plotly-scatter.ipynb)\n",
    "1. [Plotly Bar charts](03b-plotly-bar.ipynb)\n",
    "1. [Plotly 3D Visualization and color scale](03d-plotly-3dviz.ipynb)\n",
    "1. Your data?"
   ]
  },
  {
   "cell_type": "markdown",
   "metadata": {},
   "source": [
    "# Installing the dependencies\n",
    "We need to make sure that we have all of the dependencies we need installed. If you haven't already, please install the required python packages. You can do this inside this notebook by using:"
   ]
  },
  {
   "cell_type": "code",
   "execution_count": 1,
   "metadata": {},
   "outputs": [
    {
     "name": "stdout",
     "output_type": "stream",
     "text": [
      "Requirement already satisfied: matplotlib in d:\\anoconda\\lib\\site-packages (3.1.0)\n",
      "Collecting plotly\n",
      "  Downloading https://files.pythonhosted.org/packages/70/19/8437e22c84083a6d5d8a3c80f4edc73c9dcbb89261d07e6bd13b48752bbd/plotly-4.1.1-py2.py3-none-any.whl (7.1MB)\n",
      "Requirement already satisfied: pandas in d:\\anoconda\\lib\\site-packages (0.24.2)\n",
      "Requirement already satisfied: numpy in d:\\anoconda\\lib\\site-packages (1.16.4)\n",
      "Requirement already satisfied: cycler>=0.10 in d:\\anoconda\\lib\\site-packages (from matplotlib) (0.10.0)\n",
      "Requirement already satisfied: kiwisolver>=1.0.1 in d:\\anoconda\\lib\\site-packages (from matplotlib) (1.1.0)\n",
      "Requirement already satisfied: pyparsing!=2.0.4,!=2.1.2,!=2.1.6,>=2.0.1 in d:\\anoconda\\lib\\site-packages (from matplotlib) (2.4.0)\n",
      "Requirement already satisfied: python-dateutil>=2.1 in d:\\anoconda\\lib\\site-packages (from matplotlib) (2.8.0)\n",
      "Collecting retrying>=1.3.3 (from plotly)\n",
      "  Downloading https://files.pythonhosted.org/packages/44/ef/beae4b4ef80902f22e3af073397f079c96969c69b2c7d52a57ea9ae61c9d/retrying-1.3.3.tar.gz\n",
      "Requirement already satisfied: six in d:\\anoconda\\lib\\site-packages (from plotly) (1.12.0)\n",
      "Requirement already satisfied: pytz>=2011k in d:\\anoconda\\lib\\site-packages (from pandas) (2019.1)\n",
      "Requirement already satisfied: setuptools in d:\\anoconda\\lib\\site-packages (from kiwisolver>=1.0.1->matplotlib) (41.0.1)\n",
      "Building wheels for collected packages: retrying\n",
      "  Building wheel for retrying (setup.py): started\n",
      "  Building wheel for retrying (setup.py): finished with status 'done'\n",
      "  Stored in directory: C:\\Users\\jason\\AppData\\Local\\pip\\Cache\\wheels\\d7\\a9\\33\\acc7b709e2a35caa7d4cae442f6fe6fbf2c43f80823d46460c\n",
      "Successfully built retrying\n",
      "Installing collected packages: retrying, plotly\n",
      "Successfully installed plotly-4.1.1 retrying-1.3.3\n"
     ]
    }
   ],
   "source": [
    "!pip install matplotlib plotly pandas numpy"
   ]
  },
  {
   "cell_type": "markdown",
   "metadata": {},
   "source": [
    "# Plotting Packages\n",
    "\n",
    "The following plotting packages are all currently very popular, and will compliment each other in your tool box."
   ]
  },
  {
   "cell_type": "markdown",
   "metadata": {
    "colab_type": "text",
    "id": "IosK1C97W_S8"
   },
   "source": [
    "## Matplotlib\n",
    "\n",
    "https://matplotlib.org/\n",
    "\n",
    "Advantages:\n",
    "\n",
    "* Simple\n",
    "* Mature (10+ years old)\n",
    "* Can do:\n",
    " * Scatter plots\n",
    " * Bar charts and Histograms\n",
    " * Line plots\n",
    " * Pie charts\n",
    " * Stem plots\n",
    " * Contour plots\n",
    " * Quiver plots\n",
    " * Spectrograms\n",
    " "
   ]
  },
  {
   "cell_type": "markdown",
   "metadata": {
    "colab_type": "text",
    "id": "HnG322UaXUfc"
   },
   "source": [
    "## Seaborn\n",
    "\n",
    "https://seaborn.pydata.org/\n",
    "\n",
    "* Built on top of Matplotlib.\n",
    "* Closely integrated with Pandas\n",
    "* Higher level then Matplotlib, so easier to use\n",
    " * Heat maps\n",
    " * Time series\n",
    " * Violin plots\n",
    "* Default styles and color palettes are more sophisticated"
   ]
  },
  {
   "cell_type": "markdown",
   "metadata": {
    "colab_type": "text",
    "id": "b_NgyaZgawuD"
   },
   "source": [
    "## Plotly\n",
    "\n",
    "https://plot.ly/python/\n",
    "\n",
    "* javascript plotting library that has Python wrappers for generating the code.\n",
    "* capable of generating interactive plots.\n",
    "* Freemium model (they sell cloud hosted services)\n",
    "* Does nice heatmaps, nice interactive effects like hovering to see data\n",
    "* Can hook up to python widgets to make nice user interfaces in notebooks"
   ]
  },
  {
   "cell_type": "markdown",
   "metadata": {
    "colab_type": "text",
    "id": "rgb1BDv1akfD"
   },
   "source": [
    "## Bokeh\n",
    "\n",
    "https://bokeh.pydata.org\n",
    "\n",
    "* based on The Grammar of Graphics.\n",
    "* streaming and real-time data\n",
    "* can create interactive, web-ready plots, which can easily output as JSON objects, HTML documents, or interactive web applications.\n"
   ]
  },
  {
   "cell_type": "markdown",
   "metadata": {
    "colab": {},
    "colab_type": "code",
    "id": "enARve93b15m"
   },
   "source": [
    "## References\n",
    "\n",
    "The following webpages were invaluable for the creation of this course, and for providing great examples to include."
   ]
  }
 ],
 "metadata": {
  "colab": {
   "name": "Python-plotting.ipynb",
   "provenance": [],
   "version": "0.3.2"
  },
  "kernelspec": {
   "display_name": "Python 3",
   "language": "python",
   "name": "python3"
  },
  "language_info": {
   "codemirror_mode": {
    "name": "ipython",
    "version": 3
   },
   "file_extension": ".py",
   "mimetype": "text/x-python",
   "name": "python",
   "nbconvert_exporter": "python",
   "pygments_lexer": "ipython3",
   "version": "3.7.3"
  }
 },
 "nbformat": 4,
 "nbformat_minor": 1
}
